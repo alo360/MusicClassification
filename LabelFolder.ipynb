{
 "cells": [
  {
   "cell_type": "code",
   "execution_count": 27,
   "source": [
    "import os\r\n",
    "import pandas as pd\r\n",
    "\r\n",
    "from os import listdir\r\n",
    "from os.path import isdir\r\n",
    "\r\n",
    "import librosa\r\n",
    "import librosa.display\r\n",
    "\r\n",
    "import numpy as np\r\n",
    "import struct\r\n"
   ],
   "outputs": [],
   "metadata": {}
  },
  {
   "cell_type": "code",
   "execution_count": 18,
   "source": [
    "current_path = os.getcwd()\r\n",
    "current_path = os.getcwd()\r\n",
    "genre_music_path = os.path.join(current_path, 'genres_original')\r\n",
    "class_xls_path = os.path.join(current_path, 'class_xls')"
   ],
   "outputs": [],
   "metadata": {}
  },
  {
   "cell_type": "code",
   "execution_count": 6,
   "source": [
    "# Number classification\r\n",
    "def GetGenre(genre_music_path):\r\n",
    "    label_names = [item for item in os.listdir(\r\n",
    "        genre_music_path) if os.path.isdir(os.path.join(genre_music_path, item))]\r\n",
    "    nb_train_samples = sum([len(files) for _, _, files in os.walk(genre_music_path)])\r\n",
    "    \r\n",
    "    return label_names, nb_train_samples"
   ],
   "outputs": [],
   "metadata": {}
  },
  {
   "cell_type": "code",
   "execution_count": 7,
   "source": [
    "label_names, nb_train_samples = GetGenre(genre_music_path)\r\n",
    "nb_classes = len(label_names)\r\n",
    "print('Training a CNN Multi-Classifier Model ......')\r\n",
    "print('\\n - names of classes: ', label_names,\r\n",
    "      '\\n - # of classes: ', nb_train_samples)"
   ],
   "outputs": [
    {
     "output_type": "stream",
     "name": "stdout",
     "text": [
      "Training a CNN Multi-Classifier Model ......\n",
      "\n",
      " - names of classes:  ['blues', 'classical', 'country', 'disco', 'hiphop', 'jazz', 'metal', 'pop', 'reggae', 'rock'] \n",
      " - # of classes:  1000\n"
     ]
    }
   ],
   "metadata": {}
  },
  {
   "cell_type": "code",
   "execution_count": 22,
   "source": [
    "def extract_file_info_toCSV(genre_music_path, label_names):\r\n",
    "    list_file_names = []\r\n",
    "\r\n",
    "    # list_start = []\r\n",
    "    # list_end = []\r\n",
    "\r\n",
    "    list_classIds = []\r\n",
    "    list_labels = []\r\n",
    "\r\n",
    "    for idx,label in enumerate(label_names):\r\n",
    "        for dirpath, _ ,files in os.walk(os.path.join(genre_music_path, label)):\r\n",
    "            for file_name in files:\r\n",
    "                list_file_names.append(file_name)\r\n",
    "                list_classIds.append(idx)\r\n",
    "                list_labels.append(label)\r\n",
    "            # data, samplingrate = librosa.load(os.path.join(dirpath, files))\r\n",
    "\r\n",
    "    df = pd.DataFrame({'file_name': list_file_names,\r\n",
    "                    'classID': list_classIds,\r\n",
    "                    'class': list_labels})\r\n",
    "    df.to_csv(os.path.join(class_xls_path,'features_store_01.csv'))\r\n"
   ],
   "outputs": [],
   "metadata": {}
  },
  {
   "cell_type": "code",
   "execution_count": 23,
   "source": [
    "extract_file_info_toCSV(genre_music_path, label_names)"
   ],
   "outputs": [],
   "metadata": {}
  },
  {
   "cell_type": "code",
   "execution_count": 25,
   "source": [
    "def extract_features(file_name):\r\n",
    "   \r\n",
    "    try:\r\n",
    "        audio, sample_rate = librosa.load(file_name, res_type='kaiser_fast') \r\n",
    "        mfccs = librosa.feature.mfcc(y=audio, sr=sample_rate, n_mfcc=40)\r\n",
    "        mfccsscaled = np.mean(mfccs.T,axis=0)\r\n",
    "        \r\n",
    "    except Exception as e:\r\n",
    "        print(\"Error encountered while parsing file: \", file_name)\r\n",
    "        return None \r\n",
    "     \r\n",
    "    return mfccsscaled"
   ],
   "outputs": [],
   "metadata": {}
  },
  {
   "cell_type": "code",
   "execution_count": 31,
   "source": [
    "feature = extract_features('D:\\\\testRGB\\MusicClasiffication\\genres_original\\\\blues\\\\blues.00002.wav')\r\n",
    "print(feature, len(feature))"
   ],
   "outputs": [
    {
     "output_type": "stream",
     "name": "stdout",
     "text": [
      "[-90.722595   140.4463     -29.09389     31.684334   -13.984504\n",
      "  25.764742   -13.664875    11.639933   -11.783643     9.7187605\n",
      " -13.133803     5.791199    -8.907628    -1.077       -9.229274\n",
      "   2.4516892   -7.7290926   -1.8164068   -3.4397204   -2.2312589\n",
      "  -4.0509806   -0.5722491   -2.018496    -5.3876753   -5.1373224\n",
      "  -7.8074117   -1.173293    -0.21123998   1.3916391   -3.0024896\n",
      "  -1.370161    -4.7413645   -0.37558335   0.48872375   0.44240206\n",
      "  -4.162791    -4.815226    -6.7030134   -4.424409    -0.98426604] 40\n"
     ]
    }
   ],
   "metadata": {}
  },
  {
   "cell_type": "code",
   "execution_count": 28,
   "source": [
    "\r\n",
    "\r\n",
    "class WavFileHelper():\r\n",
    "    \r\n",
    "    def read_file_properties(self, filename):\r\n",
    "        wave_file = open(filename,\"rb\")\r\n",
    "        \r\n",
    "        riff = wave_file.read(12)\r\n",
    "        fmt = wave_file.read(36)\r\n",
    "        \r\n",
    "        num_channels_string = fmt[10:12]\r\n",
    "        num_channels = struct.unpack('<H', num_channels_string)[0]\r\n",
    "\r\n",
    "        sample_rate_string = fmt[12:16]\r\n",
    "        sample_rate = struct.unpack(\"<I\",sample_rate_string)[0]\r\n",
    "\r\n",
    "        bit_depth_string = fmt[22:24]\r\n",
    "        bit_depth = struct.unpack(\"<H\",bit_depth_string)[0]\r\n",
    "        return (num_channels, sample_rate, bit_depth)"
   ],
   "outputs": [],
   "metadata": {}
  },
  {
   "cell_type": "code",
   "execution_count": 30,
   "source": [
    "waveHelper = WavFileHelper()\r\n",
    "info = waveHelper.read_file_properties('D:\\\\testRGB\\MusicClasiffication\\genres_original\\\\blues\\\\blues.00002.wav')\r\n",
    "\r\n",
    "print(info)"
   ],
   "outputs": [
    {
     "output_type": "stream",
     "name": "stdout",
     "text": [
      "(1, 22050, 16)\n"
     ]
    }
   ],
   "metadata": {}
  }
 ],
 "metadata": {
  "orig_nbformat": 4,
  "language_info": {
   "name": "python",
   "version": "3.9.6",
   "mimetype": "text/x-python",
   "codemirror_mode": {
    "name": "ipython",
    "version": 3
   },
   "pygments_lexer": "ipython3",
   "nbconvert_exporter": "python",
   "file_extension": ".py"
  },
  "kernelspec": {
   "name": "python3",
   "display_name": "Python 3.9.6 64-bit"
  },
  "interpreter": {
   "hash": "23300995598eec4bcf6bd89cf02d1c3675e8b2616661418dbbf5580aa901878d"
  }
 },
 "nbformat": 4,
 "nbformat_minor": 2
}