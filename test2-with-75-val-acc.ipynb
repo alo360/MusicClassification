{
 "cells": [
  {
   "cell_type": "markdown",
   "source": [
    "\n",
    "The objective of this project is to classify 30 sec audio files by genre using TensorFlow and Librosa. To classify these audio samples in .wav format, we will preprocess them by calculating their MFCC, which is a temporal representation of the energy variations for each perceived frequency band. In this case, we are choosing 13 bands. For improved modularity and clarity, we will create a dictionnary of MFCCs and associated labels in a separate json file."
   ],
   "metadata": {
    "papermill": {
     "duration": 0.009039,
     "end_time": "2021-07-12T12:06:34.693058",
     "exception": false,
     "start_time": "2021-07-12T12:06:34.684019",
     "status": "completed"
    },
    "tags": []
   }
  },
  {
   "cell_type": "code",
   "execution_count": 4,
   "source": [
    "# This Python 3 environment comes with many helpful analytics libraries installed\r\n",
    "# It is defined by the kaggle/python Docker image: https://github.com/kaggle/docker-python\r\n",
    "# For example, here's several helpful packages to load\r\n",
    "\r\n",
    "import numpy as np # linear algebra\r\n",
    "import pandas as pd # data processing, CSV file I/O (e.g. pd.read_csv)\r\n",
    "import os\r\n",
    "import json\r\n",
    "import librosa\r\n",
    "import matplotlib.pyplot as plt\r\n",
    "from sklearn.model_selection import train_test_split\r\n",
    "import tensorflow as tf\r\n",
    "\r\n",
    "# make sure ffmpeg is installed as backend.\r\n",
    "# !apt install -y ffmpeg\r\n",
    "\r\n",
    "# Input data files are available in the read-only \"../input/\" directory\r\n",
    "# For example, running this (by clicking run or pressing Shift+Enter) will list all files under the input directory\r\n",
    "\r\n",
    "import os\r\n",
    "# for dirname, _, filenames in os.walk('/kaggle/input'):\r\n",
    "#     for filename in filenames:\r\n",
    "#         #print(os.path.join(dirname, filename))\r\n",
    "#         pass\r\n",
    "\r\n",
    "# You can write up to 20GB to the current directory (/kaggle/working/) that gets preserved as output when you create a version using \"Save & Run All\" \r\n",
    "# You can also write temporary files to /kaggle/temp/, but they won't be saved outside of the current session"
   ],
   "outputs": [],
   "metadata": {
    "_cell_guid": "b1076dfc-b9ad-4769-8c92-a6c4dae69d19",
    "_uuid": "8f2839f25d086af736a60e9eeb907d3b93b6e0e5",
    "execution": {
     "iopub.execute_input": "2021-07-12T12:06:34.794918Z",
     "iopub.status.busy": "2021-07-12T12:06:34.794170Z",
     "iopub.status.idle": "2021-07-12T12:06:43.082652Z",
     "shell.execute_reply": "2021-07-12T12:06:43.081457Z",
     "shell.execute_reply.started": "2021-07-12T12:01:24.894869Z"
    },
    "papermill": {
     "duration": 8.381519,
     "end_time": "2021-07-12T12:06:43.082816",
     "exception": false,
     "start_time": "2021-07-12T12:06:34.701297",
     "status": "completed"
    },
    "tags": []
   }
  },
  {
   "cell_type": "code",
   "execution_count": 3,
   "source": [
    "current_path = os.getcwd()\r\n",
    "current_path = os.getcwd()\r\n",
    "genre_music_path = os.path.join(current_path, 'genres_original')\r\n",
    "class_xls_path = os.path.join(current_path, 'class_xls')\r\n",
    "print(list(os.listdir(genre_music_path)))"
   ],
   "outputs": [
    {
     "output_type": "stream",
     "name": "stdout",
     "text": [
      "['blues', 'classical', 'country', 'disco', 'hiphop', 'jazz', 'metal', 'pop', 'reggae', 'rock']\n"
     ]
    }
   ],
   "metadata": {}
  },
  {
   "cell_type": "code",
   "execution_count": 5,
   "source": [
    "# Dataset location\r\n",
    "SOURCE_PATH = genre_music_path\r\n",
    "\r\n",
    "# Path to labels and processed data file, json format.\r\n",
    "JSON_PATH = os.path.join(class_xls_path, 'data.json')\r\n",
    "\r\n",
    "# Sampling rate.\r\n",
    "sr = 22050\r\n",
    "\r\n",
    "# Let's make sure all files have the same amount of samples and pick a duration right under 30 seconds.\r\n",
    "TOTAL_SAMPLES = 29 * sr\r\n",
    "\r\n",
    "# The dataset contains 999 files. Lets make it bigger. \r\n",
    "# X amount of slices => X times more training examples.\r\n",
    "NUM_SLICES = 10\r\n",
    "SAMPLES_PER_SLICE = int(TOTAL_SAMPLES / NUM_SLICES)"
   ],
   "outputs": [],
   "metadata": {
    "execution": {
     "iopub.execute_input": "2021-07-12T12:06:43.111236Z",
     "iopub.status.busy": "2021-07-12T12:06:43.110510Z",
     "iopub.status.idle": "2021-07-12T12:06:43.113348Z",
     "shell.execute_reply": "2021-07-12T12:06:43.112899Z",
     "shell.execute_reply.started": "2021-07-12T12:01:34.483605Z"
    },
    "papermill": {
     "duration": 0.018642,
     "end_time": "2021-07-12T12:06:43.113447",
     "exception": false,
     "start_time": "2021-07-12T12:06:43.094805",
     "status": "completed"
    },
    "tags": []
   }
  },
  {
   "cell_type": "code",
   "execution_count": 7,
   "source": [
    "def preprocess_data(source_path, json_path):\r\n",
    "\r\n",
    "    # Let's create a dictionary of labels and processed data.\r\n",
    "    mydict = {\r\n",
    "        \"labels\": [],\r\n",
    "        \"mfcc\": []\r\n",
    "        }\r\n",
    "\r\n",
    "    # Let's browse each file, slice it and generate the 13 band mfcc for each slice.\r\n",
    "    for i, (dirpath, dirnames, filenames) in enumerate(os.walk(source_path)):\r\n",
    "        for file in filenames:\r\n",
    "            # exclude a corrupted wav file that makes everything crash.\r\n",
    "            if os.path.join(dirpath, file) != os.path.join(os.path.join(os.path.join(current_path, 'genres_original'),'jazz'),'jazz.00054.wav'):\r\n",
    "                song, sr = librosa.load(os.path.join(dirpath, file), duration=29)\r\n",
    "                for s in range(NUM_SLICES):\r\n",
    "                    start_sample = SAMPLES_PER_SLICE * s\r\n",
    "                    end_sample = start_sample + SAMPLES_PER_SLICE\r\n",
    "                    mfcc = librosa.feature.mfcc(y=song[start_sample:end_sample], sr=sr, n_mfcc=13)\r\n",
    "                    mfcc = mfcc.T\r\n",
    "                    mydict[\"labels\"].append(i-1)\r\n",
    "                    mydict[\"mfcc\"].append(mfcc.tolist())\r\n",
    "            else:\r\n",
    "                pass\r\n",
    "\r\n",
    "    # Let's write the dictionary in a json file.    \r\n",
    "    with open(json_path, 'w') as f:\r\n",
    "        json.dump(mydict, f)\r\n",
    "    f.close()"
   ],
   "outputs": [],
   "metadata": {
    "execution": {
     "iopub.execute_input": "2021-07-12T12:06:43.143476Z",
     "iopub.status.busy": "2021-07-12T12:06:43.142956Z",
     "iopub.status.idle": "2021-07-12T12:06:43.146469Z",
     "shell.execute_reply": "2021-07-12T12:06:43.146881Z",
     "shell.execute_reply.started": "2021-07-12T12:01:34.494818Z"
    },
    "papermill": {
     "duration": 0.022311,
     "end_time": "2021-07-12T12:06:43.146997",
     "exception": false,
     "start_time": "2021-07-12T12:06:43.124686",
     "status": "completed"
    },
    "tags": []
   }
  },
  {
   "cell_type": "code",
   "execution_count": 8,
   "source": [
    "def load_data(json_path):\r\n",
    "\r\n",
    "    with open(json_path, 'r') as f:\r\n",
    "        data = json.load(f)\r\n",
    "    f.close()\r\n",
    "\r\n",
    "    # Let's load our data into numpy arrays for TensorFlow compatibility.\r\n",
    "    X = np.array(data[\"mfcc\"])\r\n",
    "    y = np.array(data[\"labels\"])\r\n",
    "\r\n",
    "    return X, y"
   ],
   "outputs": [],
   "metadata": {
    "execution": {
     "iopub.execute_input": "2021-07-12T12:06:43.173881Z",
     "iopub.status.busy": "2021-07-12T12:06:43.173203Z",
     "iopub.status.idle": "2021-07-12T12:06:43.175977Z",
     "shell.execute_reply": "2021-07-12T12:06:43.175560Z",
     "shell.execute_reply.started": "2021-07-12T12:01:34.506680Z"
    },
    "papermill": {
     "duration": 0.017864,
     "end_time": "2021-07-12T12:06:43.176079",
     "exception": false,
     "start_time": "2021-07-12T12:06:43.158215",
     "status": "completed"
    },
    "tags": []
   }
  },
  {
   "cell_type": "code",
   "execution_count": 9,
   "source": [
    "def prepare_datasets(inputs, targets, split_size):\r\n",
    "    \r\n",
    "    # Creating a validation set and a test set.\r\n",
    "    inputs_train, inputs_val, targets_train, targets_val = train_test_split(inputs, targets, test_size=split_size)\r\n",
    "    inputs_train, inputs_test, targets_train, targets_test = train_test_split(inputs_train, targets_train, test_size=split_size)\r\n",
    "    \r\n",
    "    # Our CNN model expects 3D input shape.\r\n",
    "    inputs_train = inputs_train[..., np.newaxis]\r\n",
    "    inputs_val = inputs_val[..., np.newaxis]\r\n",
    "    inputs_test = inputs_test[..., np.newaxis]\r\n",
    "    \r\n",
    "    return inputs_train, inputs_val, inputs_test, targets_train, targets_val, targets_test"
   ],
   "outputs": [],
   "metadata": {
    "execution": {
     "iopub.execute_input": "2021-07-12T12:06:43.203506Z",
     "iopub.status.busy": "2021-07-12T12:06:43.202812Z",
     "iopub.status.idle": "2021-07-12T12:06:43.205353Z",
     "shell.execute_reply": "2021-07-12T12:06:43.204962Z",
     "shell.execute_reply.started": "2021-07-12T12:01:34.520400Z"
    },
    "papermill": {
     "duration": 0.018297,
     "end_time": "2021-07-12T12:06:43.205455",
     "exception": false,
     "start_time": "2021-07-12T12:06:43.187158",
     "status": "completed"
    },
    "tags": []
   }
  },
  {
   "cell_type": "code",
   "execution_count": 11,
   "source": [
    "def design_model(input_shape):\r\n",
    "\r\n",
    "    # Let's design the model architecture.\r\n",
    "    model = tf.keras.models.Sequential([\r\n",
    "        \r\n",
    "        tf.keras.layers.Conv2D(32, (3,3), activation='relu', input_shape=input_shape),\r\n",
    "        tf.keras.layers.MaxPooling2D((3,3), strides=(2,2), padding='same'),\r\n",
    "        tf.keras.layers.BatchNormalization(),\r\n",
    "        \r\n",
    "        tf.keras.layers.Conv2D(32, (3,3), activation='relu'),\r\n",
    "        tf.keras.layers.MaxPooling2D((3,3), strides=(2,2), padding='same'),\r\n",
    "        tf.keras.layers.BatchNormalization(),\r\n",
    "        \r\n",
    "        tf.keras.layers.Conv2D(32, (2,2), activation='relu'),\r\n",
    "        tf.keras.layers.MaxPooling2D((3,3), strides=(2,2), padding='same'),\r\n",
    "        tf.keras.layers.BatchNormalization(),\r\n",
    "        tf.keras.layers.Dropout(0.3),\r\n",
    "        \r\n",
    "        tf.keras.layers.Flatten(),\r\n",
    "        tf.keras.layers.Dense(64, activation='relu'), \r\n",
    "        tf.keras.layers.Dense(len(np.unique(targets)), activation='softmax')\r\n",
    "    ])\r\n",
    "\r\n",
    "    return model"
   ],
   "outputs": [],
   "metadata": {
    "execution": {
     "iopub.execute_input": "2021-07-12T12:06:43.235959Z",
     "iopub.status.busy": "2021-07-12T12:06:43.235302Z",
     "iopub.status.idle": "2021-07-12T12:06:43.237949Z",
     "shell.execute_reply": "2021-07-12T12:06:43.237545Z",
     "shell.execute_reply.started": "2021-07-12T12:01:34.531258Z"
    },
    "papermill": {
     "duration": 0.021129,
     "end_time": "2021-07-12T12:06:43.238052",
     "exception": false,
     "start_time": "2021-07-12T12:06:43.216923",
     "status": "completed"
    },
    "tags": []
   }
  },
  {
   "cell_type": "code",
   "execution_count": 12,
   "source": [
    "def make_prediction(model, X, y, idx):\r\n",
    "    \r\n",
    "    genre_dict = {\r\n",
    "        0 : \"blues\",\r\n",
    "        1 : \"classical\",\r\n",
    "        2 : \"country\",\r\n",
    "        3 : \"disco\",\r\n",
    "        4 : \"hiphop\",\r\n",
    "        5 : \"jazz\",\r\n",
    "        6 : \"metal\",\r\n",
    "        7 : \"pop\",\r\n",
    "        8 : \"reggae\",\r\n",
    "        9 : \"rock\",\r\n",
    "        }\r\n",
    "        \r\n",
    "    predictions = model.predict(X)\r\n",
    "    genre = np.argmax(predictions[idx])\r\n",
    "    \r\n",
    "    print(\"\\n---Now testing the model for one audio file---\\nThe model predicts: {}, and ground truth is: {}.\\n\".format(genre_dict[genre], genre_dict[y[idx]]))\r\n"
   ],
   "outputs": [],
   "metadata": {
    "execution": {
     "iopub.execute_input": "2021-07-12T12:06:43.265743Z",
     "iopub.status.busy": "2021-07-12T12:06:43.265010Z",
     "iopub.status.idle": "2021-07-12T12:06:43.267556Z",
     "shell.execute_reply": "2021-07-12T12:06:43.267173Z",
     "shell.execute_reply.started": "2021-07-12T12:01:34.545616Z"
    },
    "papermill": {
     "duration": 0.018494,
     "end_time": "2021-07-12T12:06:43.267656",
     "exception": false,
     "start_time": "2021-07-12T12:06:43.249162",
     "status": "completed"
    },
    "tags": []
   }
  },
  {
   "cell_type": "code",
   "execution_count": 13,
   "source": [
    "def plot_performance(hist):\r\n",
    "    \r\n",
    "    acc = hist.history['acc']\r\n",
    "    val_acc = hist.history['val_acc']\r\n",
    "    loss = hist.history['loss']\r\n",
    "    val_loss = hist.history['val_loss']\r\n",
    "\r\n",
    "    epochs = range(len(acc))\r\n",
    "\r\n",
    "    plt.plot(epochs, acc, 'r', label='Training accuracy')\r\n",
    "    plt.plot(epochs, val_acc, 'b', label='Validation accuracy')\r\n",
    "    plt.title('Training and validation accuracy')\r\n",
    "    plt.legend()\r\n",
    "    plt.figure()\r\n",
    "\r\n",
    "    plt.plot(epochs, loss, 'r', label='Training Loss')\r\n",
    "    plt.plot(epochs, val_loss, 'b', label='Validation Loss')\r\n",
    "    plt.title('Training and validation loss')\r\n",
    "    plt.legend()\r\n",
    "\r\n",
    "    plt.show()"
   ],
   "outputs": [],
   "metadata": {
    "execution": {
     "iopub.execute_input": "2021-07-12T12:06:43.297557Z",
     "iopub.status.busy": "2021-07-12T12:06:43.296869Z",
     "iopub.status.idle": "2021-07-12T12:06:43.299521Z",
     "shell.execute_reply": "2021-07-12T12:06:43.299113Z",
     "shell.execute_reply.started": "2021-07-12T12:01:34.557036Z"
    },
    "papermill": {
     "duration": 0.019981,
     "end_time": "2021-07-12T12:06:43.299630",
     "exception": false,
     "start_time": "2021-07-12T12:06:43.279649",
     "status": "completed"
    },
    "tags": []
   }
  },
  {
   "cell_type": "code",
   "execution_count": 14,
   "source": [
    "if __name__ == \"__main__\":\r\n",
    "\r\n",
    "    preprocess_data(source_path=SOURCE_PATH, json_path=JSON_PATH)\r\n",
    "    \r\n",
    "    inputs, targets = load_data(json_path=JSON_PATH)\r\n",
    "    \r\n",
    "    Xtrain, Xval, Xtest, ytrain, yval, ytest = prepare_datasets(inputs, targets, 0.2)\r\n",
    "\r\n",
    "    input_shape = (Xtrain.shape[1], Xtrain.shape[2], 1)\r\n",
    "    model = design_model(input_shape)\r\n",
    "\r\n",
    "    # Selection of the optimizer, loss type and metrics for performance evaluation.\r\n",
    "    model.compile(optimizer = tf.keras.optimizers.RMSprop(lr=0.001),\r\n",
    "                     loss='sparse_categorical_crossentropy',\r\n",
    "                     metrics = ['acc']\r\n",
    "                     )\r\n",
    "\r\n",
    "    model.summary()\r\n",
    "\r\n",
    "    #Training the model.\r\n",
    "    history = model.fit(Xtrain, ytrain,\r\n",
    "                        validation_data=(Xval, yval),\r\n",
    "                        epochs=30,\r\n",
    "                        batch_size=32\r\n",
    "                        )\r\n",
    "\r\n",
    "    plot_performance(history)\r\n",
    "\r\n",
    "    # Testing the model on never seen before data.\r\n",
    "    make_prediction(model, Xtest, ytest, 24)"
   ],
   "outputs": [
    {
     "output_type": "stream",
     "name": "stderr",
     "text": [
      "C:\\Users\\USER\\AppData\\Roaming\\Python\\Python39\\site-packages\\tensorflow\\python\\keras\\optimizer_v2\\optimizer_v2.py:374: UserWarning: The `lr` argument is deprecated, use `learning_rate` instead.\n",
      "  warnings.warn(\n"
     ]
    },
    {
     "output_type": "stream",
     "name": "stdout",
     "text": [
      "Model: \"sequential\"\n",
      "_________________________________________________________________\n",
      "Layer (type)                 Output Shape              Param #   \n",
      "=================================================================\n",
      "conv2d (Conv2D)              (None, 123, 11, 32)       320       \n",
      "_________________________________________________________________\n",
      "max_pooling2d (MaxPooling2D) (None, 62, 6, 32)         0         \n",
      "_________________________________________________________________\n",
      "batch_normalization (BatchNo (None, 62, 6, 32)         128       \n",
      "_________________________________________________________________\n",
      "conv2d_1 (Conv2D)            (None, 60, 4, 32)         9248      \n",
      "_________________________________________________________________\n",
      "max_pooling2d_1 (MaxPooling2 (None, 30, 2, 32)         0         \n",
      "_________________________________________________________________\n",
      "batch_normalization_1 (Batch (None, 30, 2, 32)         128       \n",
      "_________________________________________________________________\n",
      "conv2d_2 (Conv2D)            (None, 29, 1, 32)         4128      \n",
      "_________________________________________________________________\n",
      "max_pooling2d_2 (MaxPooling2 (None, 15, 1, 32)         0         \n",
      "_________________________________________________________________\n",
      "batch_normalization_2 (Batch (None, 15, 1, 32)         128       \n",
      "_________________________________________________________________\n",
      "dropout (Dropout)            (None, 15, 1, 32)         0         \n",
      "_________________________________________________________________\n",
      "flatten (Flatten)            (None, 480)               0         \n",
      "_________________________________________________________________\n",
      "dense (Dense)                (None, 64)                30784     \n",
      "_________________________________________________________________\n",
      "dense_1 (Dense)              (None, 10)                650       \n",
      "=================================================================\n",
      "Total params: 45,514\n",
      "Trainable params: 45,322\n",
      "Non-trainable params: 192\n",
      "_________________________________________________________________\n",
      "Epoch 1/30\n",
      "200/200 [==============================] - 6s 10ms/step - loss: 1.6361 - acc: 0.4341 - val_loss: 1.4524 - val_acc: 0.4815\n",
      "Epoch 2/30\n",
      "200/200 [==============================] - 2s 9ms/step - loss: 1.1785 - acc: 0.5803 - val_loss: 1.3335 - val_acc: 0.5536\n",
      "Epoch 3/30\n",
      "200/200 [==============================] - 2s 9ms/step - loss: 0.9870 - acc: 0.6520 - val_loss: 1.1398 - val_acc: 0.6086\n",
      "Epoch 4/30\n",
      "200/200 [==============================] - 2s 9ms/step - loss: 0.8619 - acc: 0.6961 - val_loss: 0.9170 - val_acc: 0.6682\n",
      "Epoch 5/30\n",
      "200/200 [==============================] - 2s 9ms/step - loss: 0.7684 - acc: 0.7294 - val_loss: 0.7798 - val_acc: 0.7247\n",
      "Epoch 6/30\n",
      "200/200 [==============================] - 2s 9ms/step - loss: 0.6893 - acc: 0.7521 - val_loss: 0.8777 - val_acc: 0.6832\n",
      "Epoch 7/30\n",
      "200/200 [==============================] - 2s 9ms/step - loss: 0.6543 - acc: 0.7740 - val_loss: 0.9665 - val_acc: 0.6782\n",
      "Epoch 8/30\n",
      "200/200 [==============================] - 2s 9ms/step - loss: 0.5883 - acc: 0.7965 - val_loss: 0.8661 - val_acc: 0.7202\n",
      "Epoch 9/30\n",
      "200/200 [==============================] - 2s 9ms/step - loss: 0.5706 - acc: 0.7976 - val_loss: 0.7787 - val_acc: 0.7222\n",
      "Epoch 10/30\n",
      "200/200 [==============================] - 2s 9ms/step - loss: 0.5320 - acc: 0.8114 - val_loss: 0.7982 - val_acc: 0.7332\n",
      "Epoch 11/30\n",
      "200/200 [==============================] - 2s 9ms/step - loss: 0.5047 - acc: 0.8217 - val_loss: 0.7108 - val_acc: 0.7683\n",
      "Epoch 12/30\n",
      "200/200 [==============================] - 2s 9ms/step - loss: 0.4632 - acc: 0.8350 - val_loss: 1.1389 - val_acc: 0.6747\n",
      "Epoch 13/30\n",
      "200/200 [==============================] - 2s 9ms/step - loss: 0.4336 - acc: 0.8453 - val_loss: 1.0679 - val_acc: 0.7047\n",
      "Epoch 14/30\n",
      "200/200 [==============================] - 2s 9ms/step - loss: 0.4268 - acc: 0.8478 - val_loss: 0.8498 - val_acc: 0.7222\n",
      "Epoch 15/30\n",
      "200/200 [==============================] - 2s 9ms/step - loss: 0.4036 - acc: 0.8559 - val_loss: 0.6675 - val_acc: 0.7778\n",
      "Epoch 16/30\n",
      "200/200 [==============================] - 2s 9ms/step - loss: 0.3538 - acc: 0.8783 - val_loss: 0.7608 - val_acc: 0.7568\n",
      "Epoch 17/30\n",
      "200/200 [==============================] - 2s 9ms/step - loss: 0.3504 - acc: 0.8736 - val_loss: 0.7517 - val_acc: 0.7753\n",
      "Epoch 18/30\n",
      "200/200 [==============================] - 2s 9ms/step - loss: 0.3413 - acc: 0.8747 - val_loss: 0.7632 - val_acc: 0.7648\n",
      "Epoch 19/30\n",
      "200/200 [==============================] - 2s 9ms/step - loss: 0.3283 - acc: 0.8817 - val_loss: 0.8031 - val_acc: 0.7623\n",
      "Epoch 20/30\n",
      "200/200 [==============================] - 2s 9ms/step - loss: 0.3062 - acc: 0.8886 - val_loss: 0.7330 - val_acc: 0.7798\n",
      "Epoch 21/30\n",
      "200/200 [==============================] - 2s 9ms/step - loss: 0.3018 - acc: 0.8955 - val_loss: 0.7894 - val_acc: 0.7768\n",
      "Epoch 22/30\n",
      "200/200 [==============================] - 2s 9ms/step - loss: 0.2941 - acc: 0.8960 - val_loss: 0.8305 - val_acc: 0.7518\n",
      "Epoch 23/30\n",
      "200/200 [==============================] - 2s 9ms/step - loss: 0.2827 - acc: 0.8958 - val_loss: 0.8215 - val_acc: 0.7593\n",
      "Epoch 24/30\n",
      "200/200 [==============================] - 2s 9ms/step - loss: 0.2672 - acc: 0.9093 - val_loss: 0.8655 - val_acc: 0.7628\n",
      "Epoch 25/30\n",
      "200/200 [==============================] - 2s 9ms/step - loss: 0.2480 - acc: 0.9094 - val_loss: 0.9609 - val_acc: 0.7407\n",
      "Epoch 26/30\n",
      "200/200 [==============================] - 2s 9ms/step - loss: 0.2419 - acc: 0.9118 - val_loss: 0.7042 - val_acc: 0.7983\n",
      "Epoch 27/30\n",
      "200/200 [==============================] - 2s 9ms/step - loss: 0.2609 - acc: 0.9069 - val_loss: 0.8805 - val_acc: 0.7658\n",
      "Epoch 28/30\n",
      "200/200 [==============================] - 2s 9ms/step - loss: 0.2432 - acc: 0.9130 - val_loss: 0.7680 - val_acc: 0.7818\n",
      "Epoch 29/30\n",
      "200/200 [==============================] - 2s 9ms/step - loss: 0.2235 - acc: 0.9218 - val_loss: 0.7416 - val_acc: 0.7873\n",
      "Epoch 30/30\n",
      "200/200 [==============================] - 2s 9ms/step - loss: 0.2286 - acc: 0.9194 - val_loss: 0.8922 - val_acc: 0.7633\n"
     ]
    },
    {
     "output_type": "display_data",
     "data": {
      "text/plain": [
       "<Figure size 432x288 with 1 Axes>"
      ],
      "image/png": "[encoded data removed]"
     },
     "metadata": {
      "needs_background": "light"
     }
    },
    {
     "output_type": "display_data",
     "data": {
      "text/plain": [
       "<Figure size 432x288 with 1 Axes>"
      ],
      "image/png": "[encoded data removed]"
     },
     "metadata": {
      "needs_background": "light"
     }
    },
    {
     "output_type": "stream",
     "name": "stdout",
     "text": [
      "\n",
      "---Now testing the model for one audio file---\n",
      "The model predicts: country, and ground truth is: country.\n",
      "\n"
     ]
    }
   ],
   "metadata": {
    "execution": {
     "iopub.execute_input": "2021-07-12T12:06:43.329197Z",
     "iopub.status.busy": "2021-07-12T12:06:43.328409Z",
     "iopub.status.idle": "2021-07-12T12:10:36.433408Z",
     "shell.execute_reply": "2021-07-12T12:10:36.433808Z",
     "shell.execute_reply.started": "2021-07-12T12:01:34.568515Z"
    },
    "papermill": {
     "duration": 233.123049,
     "end_time": "2021-07-12T12:10:36.433973",
     "exception": false,
     "start_time": "2021-07-12T12:06:43.310924",
     "status": "completed"
    },
    "tags": []
   }
  },
  {
   "cell_type": "code",
   "execution_count": 16,
   "source": [
    "def make_prediction_song(model, X, idx):\r\n",
    "    \r\n",
    "    genre_dict = {\r\n",
    "        0 : \"blues\",\r\n",
    "        1 : \"classical\",\r\n",
    "        2 : \"country\",\r\n",
    "        3 : \"disco\",\r\n",
    "        4 : \"hiphop\",\r\n",
    "        5 : \"jazz\",\r\n",
    "        6 : \"metal\",\r\n",
    "        7 : \"pop\",\r\n",
    "        8 : \"reggae\",\r\n",
    "        9 : \"rock\",\r\n",
    "        }\r\n",
    "        \r\n",
    "    predictions = model.predict(X)\r\n",
    "    genre = np.argmax(predictions[idx])"
   ],
   "outputs": [],
   "metadata": {}
  },
  {
   "cell_type": "code",
   "execution_count": 21,
   "source": [
    "songname_pre = 'bensound-thejazzpiano.mp3'\r\n",
    "trypre, sr = librosa.load(songname_pre, duration=29)\r\n",
    "trypre = librosa.feature.mfcc(y=trypre[0:63,945], sr=sr, n_mfcc=13)\r\n",
    "# trypre = trypre[1:-1]\r\n",
    "# trypre = scaler.fit_transform(np.array(trypre, dtype = float).reshape(1, -1))\r\n",
    "# trypre = np.array(trypre, dtype = float).reshape(1, -1)\r\n",
    "trypre.shape\r\n",
    "# make_prediction_song(model,trypre,24)"
   ],
   "outputs": [
    {
     "output_type": "error",
     "ename": "IndexError",
     "evalue": "too many indices for array: array is 1-dimensional, but 2 were indexed",
     "traceback": [
      "\u001b[1;31m---------------------------------------------------------------------------\u001b[0m",
      "\u001b[1;31mIndexError\u001b[0m                                Traceback (most recent call last)",
      "\u001b[1;32m~\\AppData\\Local\\Temp/ipykernel_17116/3998018564.py\u001b[0m in \u001b[0;36m<module>\u001b[1;34m\u001b[0m\n\u001b[0;32m      1\u001b[0m \u001b[0msongname_pre\u001b[0m \u001b[1;33m=\u001b[0m \u001b[1;34m'bensound-thejazzpiano.mp3'\u001b[0m\u001b[1;33m\u001b[0m\u001b[1;33m\u001b[0m\u001b[0m\n\u001b[0;32m      2\u001b[0m \u001b[0mtrypre\u001b[0m\u001b[1;33m,\u001b[0m \u001b[0msr\u001b[0m \u001b[1;33m=\u001b[0m \u001b[0mlibrosa\u001b[0m\u001b[1;33m.\u001b[0m\u001b[0mload\u001b[0m\u001b[1;33m(\u001b[0m\u001b[0msongname_pre\u001b[0m\u001b[1;33m,\u001b[0m \u001b[0mduration\u001b[0m\u001b[1;33m=\u001b[0m\u001b[1;36m29\u001b[0m\u001b[1;33m)\u001b[0m\u001b[1;33m\u001b[0m\u001b[1;33m\u001b[0m\u001b[0m\n\u001b[1;32m----> 3\u001b[1;33m \u001b[0mtrypre\u001b[0m \u001b[1;33m=\u001b[0m \u001b[0mlibrosa\u001b[0m\u001b[1;33m.\u001b[0m\u001b[0mfeature\u001b[0m\u001b[1;33m.\u001b[0m\u001b[0mmfcc\u001b[0m\u001b[1;33m(\u001b[0m\u001b[0my\u001b[0m\u001b[1;33m=\u001b[0m\u001b[0mtrypre\u001b[0m\u001b[1;33m[\u001b[0m\u001b[1;36m0\u001b[0m\u001b[1;33m:\u001b[0m\u001b[1;36m63\u001b[0m\u001b[1;33m,\u001b[0m\u001b[1;36m945\u001b[0m\u001b[1;33m]\u001b[0m\u001b[1;33m,\u001b[0m \u001b[0msr\u001b[0m\u001b[1;33m=\u001b[0m\u001b[0msr\u001b[0m\u001b[1;33m,\u001b[0m \u001b[0mn_mfcc\u001b[0m\u001b[1;33m=\u001b[0m\u001b[1;36m13\u001b[0m\u001b[1;33m)\u001b[0m\u001b[1;33m\u001b[0m\u001b[1;33m\u001b[0m\u001b[0m\n\u001b[0m\u001b[0;32m      4\u001b[0m \u001b[1;31m# trypre = trypre[1:-1]\u001b[0m\u001b[1;33m\u001b[0m\u001b[1;33m\u001b[0m\u001b[1;33m\u001b[0m\u001b[0m\n\u001b[0;32m      5\u001b[0m \u001b[1;31m# trypre = scaler.fit_transform(np.array(trypre, dtype = float).reshape(1, -1))\u001b[0m\u001b[1;33m\u001b[0m\u001b[1;33m\u001b[0m\u001b[1;33m\u001b[0m\u001b[0m\n",
      "\u001b[1;31mIndexError\u001b[0m: too many indices for array: array is 1-dimensional, but 2 were indexed"
     ]
    }
   ],
   "metadata": {}
  },
  {
   "cell_type": "markdown",
   "source": [
    "Our model predicts genres with more than 75% accuracy on the validation set."
   ],
   "metadata": {
    "papermill": {
     "duration": 0.141804,
     "end_time": "2021-07-12T12:10:36.720361",
     "exception": false,
     "start_time": "2021-07-12T12:10:36.578557",
     "status": "completed"
    },
    "tags": []
   }
  }
 ],
 "metadata": {
  "kernelspec": {
   "name": "python3",
   "display_name": "Python 3.9.6 64-bit"
  },
  "language_info": {
   "codemirror_mode": {
    "name": "ipython",
    "version": 3
   },
   "file_extension": ".py",
   "mimetype": "text/x-python",
   "name": "python",
   "nbconvert_exporter": "python",
   "pygments_lexer": "ipython3",
   "version": "3.9.6"
  },
  "papermill": {
   "default_parameters": {},
   "duration": 251.673953,
   "end_time": "2021-07-12T12:10:39.530261",
   "environment_variables": {},
   "exception": null,
   "input_path": "__notebook__.ipynb",
   "output_path": "__notebook__.ipynb",
   "parameters": {},
   "start_time": "2021-07-12T12:06:27.856308",
   "version": "2.3.3"
  },
  "interpreter": {
   "hash": "23300995598eec4bcf6bd89cf02d1c3675e8b2616661418dbbf5580aa901878d"
  }
 },
 "nbformat": 4,
 "nbformat_minor": 5
}