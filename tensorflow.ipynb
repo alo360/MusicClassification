{
 "cells": [
  {
   "cell_type": "code",
   "execution_count": 1,
   "source": [
    "import librosa\r\n",
    "import pandas as pd\r\n",
    "import numpy as np\r\n",
    "import matplotlib.pyplot as plt\r\n",
    "# %matplotlib inline\r\n",
    "import os\r\n",
    "import csv\r\n",
    "# Preprocessing\r\n",
    "from sklearn.model_selection import train_test_split\r\n",
    "from sklearn.preprocessing import LabelEncoder, StandardScaler\r\n",
    "#Keras\r\n",
    "# import keras\r\n",
    "import tensorflow as tf\r\n",
    "from tensorflow import keras\r\n",
    "from tensorflow.keras import layers, models"
   ],
   "outputs": [],
   "metadata": {}
  },
  {
   "cell_type": "code",
   "execution_count": 2,
   "source": [
    "current_path = os.getcwd()\r\n",
    "current_path = os.getcwd()\r\n",
    "genre_music_path = os.path.join(current_path, 'genres_original')\r\n",
    "class_xls_path = os.path.join(current_path, 'class_xls')"
   ],
   "outputs": [],
   "metadata": {}
  },
  {
   "cell_type": "code",
   "execution_count": 3,
   "source": [
    "header = 'filename chroma_stft rmse spectral_centroid spectral_bandwidth rolloff zero_crossing_rate'\r\n",
    "for i in range(1, 21):\r\n",
    "    header += f' mfcc{i}'\r\n",
    "header += ' label'\r\n",
    "header = header.split()"
   ],
   "outputs": [],
   "metadata": {}
  },
  {
   "cell_type": "code",
   "execution_count": 4,
   "source": [
    "print(header)"
   ],
   "outputs": [
    {
     "output_type": "stream",
     "name": "stdout",
     "text": [
      "['filename', 'chroma_stft', 'rmse', 'spectral_centroid', 'spectral_bandwidth', 'rolloff', 'zero_crossing_rate', 'mfcc1', 'mfcc2', 'mfcc3', 'mfcc4', 'mfcc5', 'mfcc6', 'mfcc7', 'mfcc8', 'mfcc9', 'mfcc10', 'mfcc11', 'mfcc12', 'mfcc13', 'mfcc14', 'mfcc15', 'mfcc16', 'mfcc17', 'mfcc18', 'mfcc19', 'mfcc20', 'label']\n"
     ]
    }
   ],
   "metadata": {}
  },
  {
   "cell_type": "code",
   "execution_count": 5,
   "source": [
    "def GetGenre(genre_music_path):\r\n",
    "    label_names = [item for item in os.listdir(\r\n",
    "        genre_music_path) if os.path.isdir(os.path.join(genre_music_path, item))]\r\n",
    "    nb_train_samples = sum([len(files) for _, _, files in os.walk(genre_music_path)])\r\n",
    "    \r\n",
    "    return label_names, nb_train_samples"
   ],
   "outputs": [],
   "metadata": {}
  },
  {
   "cell_type": "code",
   "execution_count": 6,
   "source": [
    "def FileCheck(fn):\r\n",
    "    try:\r\n",
    "      librosa.load(fn, mono=True, duration=30)\r\n",
    "      return 1\r\n",
    "    except:\r\n",
    "      print (\"Error: File does not appear to exist.\")\r\n",
    "      return 0"
   ],
   "outputs": [],
   "metadata": {}
  },
  {
   "cell_type": "code",
   "execution_count": 7,
   "source": [
    "result = FileCheck('d:\\\\testRGB\\\\MusicClasiffication\\\\genres_original/jazz/jazz.00054.wav')\r\n",
    "result"
   ],
   "outputs": [
    {
     "output_type": "stream",
     "name": "stdout",
     "text": [
      "Error: File does not appear to exist.\n"
     ]
    },
    {
     "output_type": "stream",
     "name": "stderr",
     "text": [
      "C:\\Users\\USER\\AppData\\Local\\Programs\\Python\\Python39\\lib\\site-packages\\librosa\\core\\audio.py:165: UserWarning: PySoundFile failed. Trying audioread instead.\n",
      "  warnings.warn(\"PySoundFile failed. Trying audioread instead.\")\n"
     ]
    },
    {
     "output_type": "execute_result",
     "data": {
      "text/plain": [
       "0"
      ]
     },
     "metadata": {},
     "execution_count": 7
    }
   ],
   "metadata": {}
  },
  {
   "cell_type": "code",
   "execution_count": 8,
   "source": [
    "def GetFeature(songname, g,filename):\r\n",
    "    y, sr = librosa.load(songname, mono=True, duration=30)\r\n",
    "    chroma_stft = librosa.feature.chroma_stft(y=y, sr=sr)\r\n",
    "    rmse = librosa.feature.rms(y=y)\r\n",
    "    spec_cent = librosa.feature.spectral_centroid(y=y, sr=sr)\r\n",
    "    spec_bw = librosa.feature.spectral_bandwidth(y=y, sr=sr)\r\n",
    "    rolloff = librosa.feature.spectral_rolloff(y=y, sr=sr)\r\n",
    "    zcr = librosa.feature.zero_crossing_rate(y)\r\n",
    "    mfcc = librosa.feature.mfcc(y=y, sr=sr)\r\n",
    "    to_append = f'{filename} {np.mean(chroma_stft)} {np.mean(rmse)} {np.mean(spec_cent)} {np.mean(spec_bw)} {np.mean(rolloff)} {np.mean(zcr)}'    \r\n",
    "    for e in mfcc:\r\n",
    "        to_append += f' {np.mean(e)}'\r\n",
    "    to_append += f' {g}'\r\n",
    "    return to_append"
   ],
   "outputs": [],
   "metadata": {}
  },
  {
   "cell_type": "code",
   "execution_count": 9,
   "source": [
    "genres, nb_train_samples = GetGenre(genre_music_path)\r\n"
   ],
   "outputs": [],
   "metadata": {}
  },
  {
   "cell_type": "code",
   "execution_count": 43,
   "source": [
    "# file = open(os.path.join(class_xls_path,'data1.csv'), 'w', newline='')\r\n",
    "# with file:\r\n",
    "#     writer = csv.writer(file)\r\n",
    "#     writer.writerow(header)\r\n",
    "# genres, nb_train_samples = GetGenre(genre_music_path)\r\n",
    "# for g in genres:\r\n",
    "#     for filename in os.listdir('{0}/{1}'.format(genre_music_path, g)):\r\n",
    "#         songname = '{0}/{1}/{2}'.format(genre_music_path, g,filename)\r\n",
    "#         if FileCheck(songname)!=1:\r\n",
    "#             continue\r\n",
    "#         to_append = GetFeature(songname, g,filename)\r\n",
    "#         file = open(os.path.join(class_xls_path,'data1.csv'), 'a', newline='')\r\n",
    "#         with file:\r\n",
    "#             writer = csv.writer(file)\r\n",
    "#             writer.writerow(to_append.split())"
   ],
   "outputs": [
    {
     "output_type": "stream",
     "name": "stderr",
     "text": [
      "C:\\Users\\USER\\AppData\\Local\\Programs\\Python\\Python39\\lib\\site-packages\\librosa\\core\\audio.py:165: UserWarning: PySoundFile failed. Trying audioread instead.\n",
      "  warnings.warn(\"PySoundFile failed. Trying audioread instead.\")\n"
     ]
    },
    {
     "output_type": "stream",
     "name": "stdout",
     "text": [
      "Error: File does not appear to exist.\n"
     ]
    }
   ],
   "metadata": {}
  },
  {
   "cell_type": "code",
   "execution_count": 22,
   "source": [
    "# file = open(os.path.join(class_xls_path,'data.csv'), 'w', newline='')\r\n",
    "# with file:\r\n",
    "#     writer = csv.writer(file)\r\n",
    "#     writer.writerow(header)\r\n",
    "# # genres = 'blues classical country disco hiphop jazz metal pop reggae rock'.split()\r\n",
    "# genres, nb_train_samples = GetGenre(genre_music_path)\r\n",
    "# for g in genres:\r\n",
    "#     for filename in os.listdir('{0}/{1}'.format(genre_music_path, g)):\r\n",
    "#         songname = '{0}/{1}/{2}'.format(genre_music_path, g,filename)\r\n",
    "#         if FileCheck(songname)!=1:\r\n",
    "#             continue\r\n",
    "#         y, sr = librosa.load(songname, mono=True, duration=30)\r\n",
    "#         chroma_stft = librosa.feature.chroma_stft(y=y, sr=sr)\r\n",
    "#         rmse = librosa.feature.rms(y=y)\r\n",
    "#         spec_cent = librosa.feature.spectral_centroid(y=y, sr=sr)\r\n",
    "#         spec_bw = librosa.feature.spectral_bandwidth(y=y, sr=sr)\r\n",
    "#         rolloff = librosa.feature.spectral_rolloff(y=y, sr=sr)\r\n",
    "#         zcr = librosa.feature.zero_crossing_rate(y)\r\n",
    "#         mfcc = librosa.feature.mfcc(y=y, sr=sr)\r\n",
    "#         to_append = f'{filename} {np.mean(chroma_stft)} {np.mean(rmse)} {np.mean(spec_cent)} {np.mean(spec_bw)} {np.mean(rolloff)} {np.mean(zcr)}'    \r\n",
    "#         for e in mfcc:\r\n",
    "#             to_append += f' {np.mean(e)}'\r\n",
    "#         to_append += f' {g}'\r\n",
    "#         file = open(os.path.join(class_xls_path,'data.csv'), 'a', newline='')\r\n",
    "#         with file:\r\n",
    "#             writer = csv.writer(file)\r\n",
    "#             writer.writerow(to_append.split())\r\n",
    "  "
   ],
   "outputs": [
    {
     "output_type": "stream",
     "name": "stdout",
     "text": [
      "Error: File does not appear to exist.\n"
     ]
    }
   ],
   "metadata": {}
  },
  {
   "cell_type": "code",
   "execution_count": 10,
   "source": [
    "# https://medium.com/@sdoshi579/classification-of-music-into-different-genres-using-keras-82ab5339efe0\r\n",
    "# https://mikesmales.medium.com/sound-classification-using-deep-learning-8bc2aa1990b7\r\n",
    "data = pd.read_csv(os.path.join(class_xls_path,'data1.csv'))\r\n",
    "data.head()\r\n",
    "# Dropping unneccesary columns\r\n",
    "data = data.drop(['filename'],axis=1)\r\n",
    "data.head()"
   ],
   "outputs": [
    {
     "output_type": "execute_result",
     "data": {
      "text/plain": [
       "   chroma_stft      rmse  spectral_centroid  spectral_bandwidth      rolloff  \\\n",
       "0     0.331918  0.133103        1709.695245         1933.811072  3576.578906   \n",
       "1     0.341341  0.113380        1862.152169         2044.363474  3963.745898   \n",
       "2     0.347273  0.124936        1819.031220         2085.854586  4025.158594   \n",
       "3     0.367662  0.128023        1690.639848         2000.887093  3705.347461   \n",
       "4     0.333540  0.147225        1647.168975         1988.534249  3530.497852   \n",
       "\n",
       "   zero_crossing_rate       mfcc1       mfcc2      mfcc3      mfcc4  ...  \\\n",
       "0            0.078156 -118.268349  127.116753 -24.681812  41.799294  ...   \n",
       "1            0.089531 -123.148346  121.959778 -19.781145  48.184265  ...   \n",
       "2            0.074934 -135.994675  112.865311 -16.472897  52.731213  ...   \n",
       "3            0.069262 -121.603172  128.105408 -16.039820  39.561691  ...   \n",
       "4            0.069543 -105.007431  133.192474 -16.976141  40.493385  ...   \n",
       "\n",
       "      mfcc12    mfcc13    mfcc14    mfcc15    mfcc16    mfcc17    mfcc18  \\\n",
       "0  10.168422 -4.158367  8.331047 -7.012330 -2.845743 -3.214174  0.411830   \n",
       "1   8.587708 -8.416450  8.305593 -9.405838  3.518512 -6.563415  0.740047   \n",
       "2  11.439560 -5.390603  6.231468 -1.620920  4.989518 -1.700381  2.621530   \n",
       "3   9.475163 -2.772447  9.347610 -9.093128 -1.430501 -3.136297 -0.069073   \n",
       "4  16.184778 -6.603631  6.055697 -8.496324  0.978470 -0.993938  1.825108   \n",
       "\n",
       "     mfcc19    mfcc20  label  \n",
       "0 -5.189313 -0.428244  blues  \n",
       "1 -2.516605  6.000895  blues  \n",
       "2 -2.606426  2.352135  blues  \n",
       "3 -2.403810  3.597623  blues  \n",
       "4 -3.346776  0.519681  blues  \n",
       "\n",
       "[5 rows x 27 columns]"
      ],
      "text/html": [
       "<div>\n",
       "<style scoped>\n",
       "    .dataframe tbody tr th:only-of-type {\n",
       "        vertical-align: middle;\n",
       "    }\n",
       "\n",
       "    .dataframe tbody tr th {\n",
       "        vertical-align: top;\n",
       "    }\n",
       "\n",
       "    .dataframe thead th {\n",
       "        text-align: right;\n",
       "    }\n",
       "</style>\n",
       "<table border=\"1\" class=\"dataframe\">\n",
       "  <thead>\n",
       "    <tr style=\"text-align: right;\">\n",
       "      <th></th>\n",
       "      <th>chroma_stft</th>\n",
       "      <th>rmse</th>\n",
       "      <th>spectral_centroid</th>\n",
       "      <th>spectral_bandwidth</th>\n",
       "      <th>rolloff</th>\n",
       "      <th>zero_crossing_rate</th>\n",
       "      <th>mfcc1</th>\n",
       "      <th>mfcc2</th>\n",
       "      <th>mfcc3</th>\n",
       "      <th>mfcc4</th>\n",
       "      <th>...</th>\n",
       "      <th>mfcc12</th>\n",
       "      <th>mfcc13</th>\n",
       "      <th>mfcc14</th>\n",
       "      <th>mfcc15</th>\n",
       "      <th>mfcc16</th>\n",
       "      <th>mfcc17</th>\n",
       "      <th>mfcc18</th>\n",
       "      <th>mfcc19</th>\n",
       "      <th>mfcc20</th>\n",
       "      <th>label</th>\n",
       "    </tr>\n",
       "  </thead>\n",
       "  <tbody>\n",
       "    <tr>\n",
       "      <th>0</th>\n",
       "      <td>0.331918</td>\n",
       "      <td>0.133103</td>\n",
       "      <td>1709.695245</td>\n",
       "      <td>1933.811072</td>\n",
       "      <td>3576.578906</td>\n",
       "      <td>0.078156</td>\n",
       "      <td>-118.268349</td>\n",
       "      <td>127.116753</td>\n",
       "      <td>-24.681812</td>\n",
       "      <td>41.799294</td>\n",
       "      <td>...</td>\n",
       "      <td>10.168422</td>\n",
       "      <td>-4.158367</td>\n",
       "      <td>8.331047</td>\n",
       "      <td>-7.012330</td>\n",
       "      <td>-2.845743</td>\n",
       "      <td>-3.214174</td>\n",
       "      <td>0.411830</td>\n",
       "      <td>-5.189313</td>\n",
       "      <td>-0.428244</td>\n",
       "      <td>blues</td>\n",
       "    </tr>\n",
       "    <tr>\n",
       "      <th>1</th>\n",
       "      <td>0.341341</td>\n",
       "      <td>0.113380</td>\n",
       "      <td>1862.152169</td>\n",
       "      <td>2044.363474</td>\n",
       "      <td>3963.745898</td>\n",
       "      <td>0.089531</td>\n",
       "      <td>-123.148346</td>\n",
       "      <td>121.959778</td>\n",
       "      <td>-19.781145</td>\n",
       "      <td>48.184265</td>\n",
       "      <td>...</td>\n",
       "      <td>8.587708</td>\n",
       "      <td>-8.416450</td>\n",
       "      <td>8.305593</td>\n",
       "      <td>-9.405838</td>\n",
       "      <td>3.518512</td>\n",
       "      <td>-6.563415</td>\n",
       "      <td>0.740047</td>\n",
       "      <td>-2.516605</td>\n",
       "      <td>6.000895</td>\n",
       "      <td>blues</td>\n",
       "    </tr>\n",
       "    <tr>\n",
       "      <th>2</th>\n",
       "      <td>0.347273</td>\n",
       "      <td>0.124936</td>\n",
       "      <td>1819.031220</td>\n",
       "      <td>2085.854586</td>\n",
       "      <td>4025.158594</td>\n",
       "      <td>0.074934</td>\n",
       "      <td>-135.994675</td>\n",
       "      <td>112.865311</td>\n",
       "      <td>-16.472897</td>\n",
       "      <td>52.731213</td>\n",
       "      <td>...</td>\n",
       "      <td>11.439560</td>\n",
       "      <td>-5.390603</td>\n",
       "      <td>6.231468</td>\n",
       "      <td>-1.620920</td>\n",
       "      <td>4.989518</td>\n",
       "      <td>-1.700381</td>\n",
       "      <td>2.621530</td>\n",
       "      <td>-2.606426</td>\n",
       "      <td>2.352135</td>\n",
       "      <td>blues</td>\n",
       "    </tr>\n",
       "    <tr>\n",
       "      <th>3</th>\n",
       "      <td>0.367662</td>\n",
       "      <td>0.128023</td>\n",
       "      <td>1690.639848</td>\n",
       "      <td>2000.887093</td>\n",
       "      <td>3705.347461</td>\n",
       "      <td>0.069262</td>\n",
       "      <td>-121.603172</td>\n",
       "      <td>128.105408</td>\n",
       "      <td>-16.039820</td>\n",
       "      <td>39.561691</td>\n",
       "      <td>...</td>\n",
       "      <td>9.475163</td>\n",
       "      <td>-2.772447</td>\n",
       "      <td>9.347610</td>\n",
       "      <td>-9.093128</td>\n",
       "      <td>-1.430501</td>\n",
       "      <td>-3.136297</td>\n",
       "      <td>-0.069073</td>\n",
       "      <td>-2.403810</td>\n",
       "      <td>3.597623</td>\n",
       "      <td>blues</td>\n",
       "    </tr>\n",
       "    <tr>\n",
       "      <th>4</th>\n",
       "      <td>0.333540</td>\n",
       "      <td>0.147225</td>\n",
       "      <td>1647.168975</td>\n",
       "      <td>1988.534249</td>\n",
       "      <td>3530.497852</td>\n",
       "      <td>0.069543</td>\n",
       "      <td>-105.007431</td>\n",
       "      <td>133.192474</td>\n",
       "      <td>-16.976141</td>\n",
       "      <td>40.493385</td>\n",
       "      <td>...</td>\n",
       "      <td>16.184778</td>\n",
       "      <td>-6.603631</td>\n",
       "      <td>6.055697</td>\n",
       "      <td>-8.496324</td>\n",
       "      <td>0.978470</td>\n",
       "      <td>-0.993938</td>\n",
       "      <td>1.825108</td>\n",
       "      <td>-3.346776</td>\n",
       "      <td>0.519681</td>\n",
       "      <td>blues</td>\n",
       "    </tr>\n",
       "  </tbody>\n",
       "</table>\n",
       "<p>5 rows × 27 columns</p>\n",
       "</div>"
      ]
     },
     "metadata": {},
     "execution_count": 10
    }
   ],
   "metadata": {}
  },
  {
   "cell_type": "code",
   "execution_count": 11,
   "source": [
    "genre_list = data.iloc[:, -1]\r\n",
    "encoder = LabelEncoder()\r\n",
    "y = encoder.fit_transform(genre_list)\r\n",
    "print(y.shape)"
   ],
   "outputs": [
    {
     "output_type": "stream",
     "name": "stdout",
     "text": [
      "(9990,)\n"
     ]
    }
   ],
   "metadata": {}
  },
  {
   "cell_type": "markdown",
   "source": [
    "Normalizing the dataset"
   ],
   "metadata": {}
  },
  {
   "cell_type": "code",
   "execution_count": 12,
   "source": [
    "scaler = StandardScaler()\r\n",
    "X = scaler.fit_transform(np.array(data.iloc[:, :-1], dtype = float))"
   ],
   "outputs": [],
   "metadata": {}
  },
  {
   "cell_type": "code",
   "execution_count": 13,
   "source": [
    "X.shape"
   ],
   "outputs": [
    {
     "output_type": "execute_result",
     "data": {
      "text/plain": [
       "(9990, 26)"
      ]
     },
     "metadata": {},
     "execution_count": 13
    }
   ],
   "metadata": {}
  },
  {
   "cell_type": "code",
   "execution_count": 14,
   "source": [
    "print(len(X[0]))"
   ],
   "outputs": [
    {
     "output_type": "stream",
     "name": "stdout",
     "text": [
      "26\n"
     ]
    }
   ],
   "metadata": {}
  },
  {
   "cell_type": "code",
   "execution_count": 31,
   "source": [
    "X_train, X_test, y_train, y_test = train_test_split(X, y, test_size=0.2, random_state = 42)"
   ],
   "outputs": [],
   "metadata": {}
  },
  {
   "cell_type": "markdown",
   "source": [
    "Creating a Model"
   ],
   "metadata": {}
  },
  {
   "cell_type": "code",
   "execution_count": 35,
   "source": [
    "print(X_train.shape, X_test.shape, y_train.shape, y_test.shape)"
   ],
   "outputs": [
    {
     "output_type": "stream",
     "name": "stdout",
     "text": [
      "(7992, 26) (1998, 26) (7992,) (1998,)\n"
     ]
    }
   ],
   "metadata": {}
  },
  {
   "cell_type": "code",
   "execution_count": 37,
   "source": [
    "# from keras import models\r\n",
    "# from keras import layers\r\n",
    "\r\n",
    "model = models.Sequential()\r\n",
    "model.add(layers.Dense(256, activation='relu', input_shape=(X_train.shape[1],)))\r\n",
    "model.add(layers.Dense(128, activation='relu'))\r\n",
    "model.add(layers.Dense(64, activation='relu'))\r\n",
    "model.add(layers.Dense(10, activation='softmax'))\r\n"
   ],
   "outputs": [],
   "metadata": {}
  },
  {
   "cell_type": "code",
   "execution_count": 38,
   "source": [
    "model.compile(\r\n",
    "            # optimizer=tf.keras.optimizers.Adam(learning_rate=1e-5),\r\n",
    "            optimizer='adam',\r\n",
    "            loss='sparse_categorical_crossentropy',\r\n",
    "            metrics=['accuracy'])"
   ],
   "outputs": [],
   "metadata": {}
  },
  {
   "cell_type": "code",
   "execution_count": 39,
   "source": [
    "history = model.fit(X_train,\r\n",
    "                    y_train,\r\n",
    "                    validation_data=(X_test, y_test),\r\n",
    "                    epochs=20,\r\n",
    "                    batch_size=128)"
   ],
   "outputs": [
    {
     "output_type": "stream",
     "name": "stdout",
     "text": [
      "Epoch 1/20\n",
      "63/63 [==============================] - 0s 4ms/step - loss: 1.5890 - accuracy: 0.4411 - val_loss: 1.2366 - val_accuracy: 0.5541\n",
      "Epoch 2/20\n",
      "63/63 [==============================] - 0s 3ms/step - loss: 1.1145 - accuracy: 0.6196 - val_loss: 1.0218 - val_accuracy: 0.6446\n",
      "Epoch 3/20\n",
      "63/63 [==============================] - 0s 3ms/step - loss: 0.9481 - accuracy: 0.6754 - val_loss: 0.8998 - val_accuracy: 0.6962\n",
      "Epoch 4/20\n",
      "63/63 [==============================] - 0s 3ms/step - loss: 0.8390 - accuracy: 0.7100 - val_loss: 0.8579 - val_accuracy: 0.7002\n",
      "Epoch 5/20\n",
      "63/63 [==============================] - 0s 3ms/step - loss: 0.7509 - accuracy: 0.7455 - val_loss: 0.7614 - val_accuracy: 0.7377\n",
      "Epoch 6/20\n",
      "63/63 [==============================] - 0s 3ms/step - loss: 0.6760 - accuracy: 0.7703 - val_loss: 0.7085 - val_accuracy: 0.7482\n",
      "Epoch 7/20\n",
      "63/63 [==============================] - 0s 3ms/step - loss: 0.6088 - accuracy: 0.7954 - val_loss: 0.6701 - val_accuracy: 0.7708\n",
      "Epoch 8/20\n",
      "63/63 [==============================] - 0s 3ms/step - loss: 0.5607 - accuracy: 0.8111 - val_loss: 0.6586 - val_accuracy: 0.7698\n",
      "Epoch 9/20\n",
      "63/63 [==============================] - 0s 3ms/step - loss: 0.5144 - accuracy: 0.8282 - val_loss: 0.6045 - val_accuracy: 0.7843\n",
      "Epoch 10/20\n",
      "63/63 [==============================] - 0s 3ms/step - loss: 0.4807 - accuracy: 0.8412 - val_loss: 0.5993 - val_accuracy: 0.7868\n",
      "Epoch 11/20\n",
      "63/63 [==============================] - 0s 3ms/step - loss: 0.4471 - accuracy: 0.8522 - val_loss: 0.5603 - val_accuracy: 0.8078\n",
      "Epoch 12/20\n",
      "63/63 [==============================] - 0s 3ms/step - loss: 0.4209 - accuracy: 0.8564 - val_loss: 0.5633 - val_accuracy: 0.8048\n",
      "Epoch 13/20\n",
      "63/63 [==============================] - 0s 3ms/step - loss: 0.3767 - accuracy: 0.8790 - val_loss: 0.5337 - val_accuracy: 0.8203\n",
      "Epoch 14/20\n",
      "63/63 [==============================] - 0s 3ms/step - loss: 0.3505 - accuracy: 0.8845 - val_loss: 0.5275 - val_accuracy: 0.8148\n",
      "Epoch 15/20\n",
      "63/63 [==============================] - 0s 3ms/step - loss: 0.3269 - accuracy: 0.8875 - val_loss: 0.5076 - val_accuracy: 0.8163\n",
      "Epoch 16/20\n",
      "63/63 [==============================] - 0s 3ms/step - loss: 0.3100 - accuracy: 0.8973 - val_loss: 0.4875 - val_accuracy: 0.8363\n",
      "Epoch 17/20\n",
      "63/63 [==============================] - 0s 3ms/step - loss: 0.2876 - accuracy: 0.9058 - val_loss: 0.4804 - val_accuracy: 0.8298\n",
      "Epoch 18/20\n",
      "63/63 [==============================] - 0s 3ms/step - loss: 0.2537 - accuracy: 0.9212 - val_loss: 0.5054 - val_accuracy: 0.8213\n",
      "Epoch 19/20\n",
      "63/63 [==============================] - 0s 3ms/step - loss: 0.2445 - accuracy: 0.9209 - val_loss: 0.4700 - val_accuracy: 0.8413\n",
      "Epoch 20/20\n",
      "63/63 [==============================] - 0s 3ms/step - loss: 0.2282 - accuracy: 0.9287 - val_loss: 0.5018 - val_accuracy: 0.8353\n"
     ]
    }
   ],
   "metadata": {}
  },
  {
   "cell_type": "code",
   "execution_count": 40,
   "source": [
    "fig, ax = plt.subplots(1, 2, figsize=(20, 7), constrained_layout=True)\r\n",
    "\r\n",
    "ax[0].plot(history.history['loss'], label='Train loss')\r\n",
    "ax[0].plot(history.history['val_loss'], label='Val loss')\r\n",
    "ax[1].plot(history.history['accuracy'], label='Train accuracy')\r\n",
    "ax[1].plot(history.history['val_accuracy'], label='Val accuracy')\r\n",
    "\r\n",
    "fig.suptitle(f'DenseNet 2 layers', fontsize=20)\r\n",
    "ax[0].set_title(f'Loss', fontsize=15)\r\n",
    "ax[1].set_title(f'Accuracy', fontsize=15)\r\n",
    "\r\n",
    "ax[0].legend()\r\n",
    "ax[1].legend()"
   ],
   "outputs": [
    {
     "output_type": "execute_result",
     "data": {
      "text/plain": [
       "<matplotlib.legend.Legend at 0x2a41c46d1c0>"
      ]
     },
     "metadata": {},
     "execution_count": 40
    },
    {
     "output_type": "display_data",
     "data": {
      "text/plain": [
       "<Figure size 1440x504 with 2 Axes>"
      ],
      "image/png": "[encoded data removed]"
     },
     "metadata": {
      "needs_background": "light"
     }
    }
   ],
   "metadata": {}
  },
  {
   "cell_type": "code",
   "execution_count": 41,
   "source": [
    "test_loss, test_acc = model.evaluate(X_test,y_test)\r\n",
    "print('test_acc: ',test_acc)"
   ],
   "outputs": [
    {
     "output_type": "stream",
     "name": "stdout",
     "text": [
      "63/63 [==============================] - 0s 2ms/step - loss: 0.5018 - accuracy: 0.8353\n",
      "test_acc:  0.8353353142738342\n"
     ]
    }
   ],
   "metadata": {}
  },
  {
   "cell_type": "code",
   "execution_count": 42,
   "source": [
    "genres, nb_train_samples = GetGenre(genre_music_path)"
   ],
   "outputs": [],
   "metadata": {}
  },
  {
   "cell_type": "code",
   "execution_count": 43,
   "source": [
    "predictions = model.predict(X_test)\r\n",
    "genres[np.argmax(predictions[0])]"
   ],
   "outputs": [
    {
     "output_type": "execute_result",
     "data": {
      "text/plain": [
       "'blues'"
      ]
     },
     "metadata": {},
     "execution_count": 43
    }
   ],
   "metadata": {}
  },
  {
   "cell_type": "code",
   "execution_count": 44,
   "source": [
    "X_test.shape"
   ],
   "outputs": [
    {
     "output_type": "execute_result",
     "data": {
      "text/plain": [
       "(1998, 26)"
      ]
     },
     "metadata": {},
     "execution_count": 44
    }
   ],
   "metadata": {}
  },
  {
   "cell_type": "code",
   "execution_count": 45,
   "source": [
    "predictions = model.predict(X_test)\r\n",
    "genres[np.argmax(predictions[1])]"
   ],
   "outputs": [
    {
     "output_type": "execute_result",
     "data": {
      "text/plain": [
       "'jazz'"
      ]
     },
     "metadata": {},
     "execution_count": 45
    }
   ],
   "metadata": {}
  },
  {
   "cell_type": "code",
   "execution_count": 46,
   "source": [
    "# Sampling rate.\r\n",
    "sr = 22050\r\n",
    "\r\n",
    "# Let's make sure all files have the same amount of samples and pick a duration right under 30 seconds.\r\n",
    "TOTAL_SAMPLES = 29 * sr\r\n",
    "\r\n",
    "# The dataset contains 999 files. Lets make it bigger. \r\n",
    "# X amount of slices => X times more training examples.\r\n",
    "NUM_SLICES = 10\r\n",
    "SAMPLES_PER_SLICE = int(TOTAL_SAMPLES / NUM_SLICES)\r\n",
    "\r\n"
   ],
   "outputs": [],
   "metadata": {}
  },
  {
   "cell_type": "code",
   "execution_count": 47,
   "source": [
    "def GetFeature_pre(songname, g,filename):\r\n",
    "    y, sr = librosa.load(songname, mono=True, duration=30)\r\n",
    "    TOTAL_SAMPLES = 29 * sr\r\n",
    "    NUM_SLICES = 10\r\n",
    "    SAMPLES_PER_SLICE = int(TOTAL_SAMPLES / NUM_SLICES)\r\n",
    "    print(SAMPLES_PER_SLICE)\r\n",
    "    y=y[0:SAMPLES_PER_SLICE]\r\n",
    "    chroma_stft = librosa.feature.chroma_stft(y=y, sr=sr)\r\n",
    "    rmse = librosa.feature.rms(y=y)\r\n",
    "    spec_cent = librosa.feature.spectral_centroid(y=y, sr=sr)\r\n",
    "    spec_bw = librosa.feature.spectral_bandwidth(y=y, sr=sr)\r\n",
    "    rolloff = librosa.feature.spectral_rolloff(y=y, sr=sr)\r\n",
    "    zcr = librosa.feature.zero_crossing_rate(y)\r\n",
    "    mfcc = librosa.feature.mfcc(y=y, sr=sr)\r\n",
    "    to_append = f'{filename} {np.mean(chroma_stft)} {np.mean(rmse)} {np.mean(spec_cent)} {np.mean(spec_bw)} {np.mean(rolloff)} {np.mean(zcr)}'    \r\n",
    "    for e in mfcc:\r\n",
    "        to_append += f' {np.mean(e)}'\r\n",
    "    to_append += f' {g}'\r\n",
    "    return to_append"
   ],
   "outputs": [],
   "metadata": {}
  },
  {
   "cell_type": "code",
   "execution_count": 48,
   "source": [
    "songname_pre = 'blues.00043.wav'\r\n",
    "trypre = GetFeature_pre(songname_pre, '_',songname_pre).split()\r\n",
    "trypre = trypre[1:-1]\r\n",
    "print(trypre)\r\n",
    "# trypre = scaler.fit_transform(np.array(trypre, dtype = float).reshape(1, -1))\r\n",
    "trypre = np.array(trypre, dtype = float)\r\n",
    "trypre = np.expand_dims(trypre, axis=0)\r\n",
    "print(trypre)\r\n",
    "# trypre\r\n"
   ],
   "outputs": [
    {
     "output_type": "stream",
     "name": "stdout",
     "text": [
      "63945\n",
      "['0.3980572819709778', '0.12854091823101044', '2174.849300099218', '2354.7072592817476', '4982.094140625', '0.08960546875', '-103.30793762207031', '102.05876159667969', '-10.18349552154541', '44.32889175415039', '-11.383622169494629', '37.420921325683594', '-5.407376289367676', '29.976638793945312', '-18.812591552734375', '10.101991653442383', '-24.077308654785156', '6.638007640838623', '-9.148433685302734', '5.2578864097595215', '-15.447012901306152', '1.9959747791290283', '-7.9035420417785645', '2.8280794620513916', '-3.9268064498901367', '4.275541305541992']\n",
      "[[ 3.98057282e-01  1.28540918e-01  2.17484930e+03  2.35470726e+03\n",
      "   4.98209414e+03  8.96054688e-02 -1.03307938e+02  1.02058762e+02\n",
      "  -1.01834955e+01  4.43288918e+01 -1.13836222e+01  3.74209213e+01\n",
      "  -5.40737629e+00  2.99766388e+01 -1.88125916e+01  1.01019917e+01\n",
      "  -2.40773087e+01  6.63800764e+00 -9.14843369e+00  5.25788641e+00\n",
      "  -1.54470129e+01  1.99597478e+00 -7.90354204e+00  2.82807946e+00\n",
      "  -3.92680645e+00  4.27554131e+00]]\n"
     ]
    }
   ],
   "metadata": {}
  },
  {
   "cell_type": "code",
   "execution_count": 49,
   "source": [
    "prediction = model.predict(trypre)\r\n",
    "\r\n",
    "pre= (model.predict(trypre) > 0.5).astype(\"int32\")\r\n",
    "\r\n",
    "print(genres[np.argmax(prediction)])"
   ],
   "outputs": [
    {
     "output_type": "stream",
     "name": "stdout",
     "text": [
      "disco\n"
     ]
    }
   ],
   "metadata": {}
  }
 ],
 "metadata": {
  "orig_nbformat": 4,
  "language_info": {
   "name": "python",
   "version": "3.9.6",
   "mimetype": "text/x-python",
   "codemirror_mode": {
    "name": "ipython",
    "version": 3
   },
   "pygments_lexer": "ipython3",
   "nbconvert_exporter": "python",
   "file_extension": ".py"
  },
  "kernelspec": {
   "name": "python3",
   "display_name": "Python 3.9.6 64-bit"
  },
  "interpreter": {
   "hash": "23300995598eec4bcf6bd89cf02d1c3675e8b2616661418dbbf5580aa901878d"
  }
 },
 "nbformat": 4,
 "nbformat_minor": 2
}