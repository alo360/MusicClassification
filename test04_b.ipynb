{
 "cells": [
  {
   "cell_type": "code",
   "execution_count": 25,
   "source": [
    "# Usual Libraries\r\n",
    "import pandas as pd\r\n",
    "import numpy as np\r\n",
    "import seaborn as sns\r\n",
    "import matplotlib.pyplot as plt\r\n",
    "import sklearn\r\n",
    "\r\n",
    "# Librosa (the mother of audio files)\r\n",
    "import librosa\r\n",
    "import librosa.display\r\n",
    "import IPython.display as ipd\r\n",
    "import warnings\r\n",
    "warnings.filterwarnings('ignore')\r\n",
    "import os"
   ],
   "outputs": [],
   "metadata": {}
  },
  {
   "cell_type": "code",
   "execution_count": 26,
   "source": [
    "from sklearn.naive_bayes import GaussianNB\r\n",
    "from sklearn.linear_model import SGDClassifier, LogisticRegression\r\n",
    "from sklearn.neighbors import KNeighborsClassifier\r\n",
    "from sklearn.tree import DecisionTreeClassifier\r\n",
    "from sklearn.ensemble import RandomForestClassifier\r\n",
    "from sklearn.svm import SVC\r\n",
    "from sklearn.neural_network import MLPClassifier\r\n",
    "from xgboost import XGBClassifier, XGBRFClassifier\r\n",
    "from xgboost import plot_tree, plot_importance\r\n",
    "\r\n",
    "from sklearn.metrics import confusion_matrix, accuracy_score, roc_auc_score, roc_curve\r\n",
    "from sklearn import preprocessing\r\n",
    "from sklearn.model_selection import train_test_split\r\n",
    "from sklearn.feature_selection import RFE"
   ],
   "outputs": [],
   "metadata": {}
  },
  {
   "cell_type": "code",
   "execution_count": 27,
   "source": [
    "# data = pd.read_csv(f'./class_xls/data2.csv')\r\n",
    "# data = data.iloc[0:, 1:] \r\n",
    "# data.head()"
   ],
   "outputs": [],
   "metadata": {}
  },
  {
   "cell_type": "code",
   "execution_count": 28,
   "source": [
    "current_path = os.getcwd()\r\n",
    "current_path = os.getcwd()\r\n",
    "genre_music_path = os.path.join(current_path, 'genres_original')\r\n",
    "class_xls_path = os.path.join(current_path, 'class_xls')\r\n",
    "print(list(os.listdir(genre_music_path)))"
   ],
   "outputs": [
    {
     "output_type": "stream",
     "name": "stdout",
     "text": [
      "['blues', 'classical', 'country', 'disco', 'hiphop', 'jazz', 'metal', 'pop', 'reggae', 'rock']\n"
     ]
    }
   ],
   "metadata": {}
  },
  {
   "cell_type": "code",
   "execution_count": 29,
   "source": [
    "# Importing 1 file\r\n",
    "audio_file = os.path.join(genre_music_path,'reggae','reggae.00036.wav')\r\n",
    "y, sr = librosa.load(audio_file)\r\n",
    "\r\n",
    "print('y:', y, '\\n')\r\n",
    "print('y shape:', np.shape(y), '\\n')\r\n",
    "print('Sample Rate (KHz):', sr, '\\n')\r\n",
    "\r\n",
    "# Verify length of the audio\r\n",
    "print('Check Len of Audio:', 661794/22050)"
   ],
   "outputs": [
    {
     "output_type": "stream",
     "name": "stdout",
     "text": [
      "y: [0.02072144 0.04492188 0.05422974 ... 0.06912231 0.08303833 0.08572388] \n",
      "\n",
      "y shape: (661794,) \n",
      "\n",
      "Sample Rate (KHz): 22050 \n",
      "\n",
      "Check Len of Audio: 30.013333333333332\n"
     ]
    }
   ],
   "metadata": {}
  },
  {
   "cell_type": "code",
   "execution_count": 30,
   "source": [
    "from codeFeature.feature_extractor import *"
   ],
   "outputs": [],
   "metadata": {}
  },
  {
   "cell_type": "code",
   "execution_count": 31,
   "source": [
    "def GetGenre(genre_music_path):\r\n",
    "    label_names = [item for item in os.listdir(\r\n",
    "        genre_music_path) if os.path.isdir(os.path.join(genre_music_path, item))]\r\n",
    "    nb_train_samples = sum([len(files) for _, _, files in os.walk(genre_music_path)])\r\n",
    "    \r\n",
    "    return label_names, nb_train_samples\r\n",
    "genres, nb_train_samples = GetGenre(genre_music_path)"
   ],
   "outputs": [],
   "metadata": {}
  },
  {
   "cell_type": "code",
   "execution_count": 32,
   "source": [
    "# dataExport_path = os.path.join(class_xls_path,'data2.csv')"
   ],
   "outputs": [],
   "metadata": {}
  },
  {
   "cell_type": "code",
   "execution_count": 33,
   "source": [
    "# extract_Feature_audio_toCSV(genre_music_path, dataExport_path, genres)"
   ],
   "outputs": [],
   "metadata": {}
  },
  {
   "cell_type": "code",
   "execution_count": 34,
   "source": [
    "data = pd.read_csv(f'./class_xls/data2.csv')\r\n",
    "data = data.iloc[0:, 1:] \r\n",
    "data.head()"
   ],
   "outputs": [
    {
     "output_type": "execute_result",
     "data": {
      "text/plain": [
       "   chroma_stft_mean  chroma_stft_var  rms_mean   rms_var  \\\n",
       "0          0.331918         0.090973  0.133103  0.003472   \n",
       "1          0.341341         0.085158  0.113380  0.001503   \n",
       "2          0.347273         0.090748  0.124936  0.004253   \n",
       "3          0.367662         0.088128  0.128023  0.002582   \n",
       "4          0.333540         0.090811  0.147225  0.001878   \n",
       "\n",
       "   spectral_centroid_mean  spectral_centroid_var  spectral_bandwidth_mean  \\\n",
       "0             1709.695245           57163.961542              1933.811072   \n",
       "1             1862.152169          190270.100391              2044.363474   \n",
       "2             1819.031220          109954.693790              2085.854586   \n",
       "3             1690.639848          109272.678104              2000.887093   \n",
       "4             1647.168975           74200.846542              1988.534249   \n",
       "\n",
       "   spectral_bandwidth_var  rolloff_mean   rolloff_var  ...  mfcc16_var  \\\n",
       "0            80517.262556   3576.578906  6.237365e+05  ...   40.736065   \n",
       "1           102500.152725   3963.745898  1.099210e+06  ...   67.677002   \n",
       "2            71784.102943   4025.158594  7.583332e+05  ...   68.337082   \n",
       "3            82949.723609   3705.347461  8.994276e+05  ...   46.770283   \n",
       "4            40893.213344   3530.497852  5.554502e+05  ...   37.696289   \n",
       "\n",
       "   mfcc17_mean  mfcc17_var  mfcc18_mean  mfcc18_var  mfcc19_mean  mfcc19_var  \\\n",
       "0    -3.214174   37.470497     0.411830   37.329441    -5.189313   34.034435   \n",
       "1    -6.563415   40.349876     0.740047   53.174896    -2.516605   96.645866   \n",
       "2    -1.700381   32.514679     2.621530   43.788219    -2.606426   56.476410   \n",
       "3    -3.136297   27.493921    -0.069073   30.165653    -2.403810   53.037487   \n",
       "4    -0.993938   35.296734     1.825108   56.034340    -3.346776   26.230961   \n",
       "\n",
       "   mfcc20_mean  mfcc20_var  label  \n",
       "0    -0.428244   44.372490  blues  \n",
       "1     6.000895   61.931782  blues  \n",
       "2     2.352135   34.945358  blues  \n",
       "3     3.597623   30.709112  blues  \n",
       "4     0.519681   32.662136  blues  \n",
       "\n",
       "[5 rows x 58 columns]"
      ],
      "text/html": [
       "<div>\n",
       "<style scoped>\n",
       "    .dataframe tbody tr th:only-of-type {\n",
       "        vertical-align: middle;\n",
       "    }\n",
       "\n",
       "    .dataframe tbody tr th {\n",
       "        vertical-align: top;\n",
       "    }\n",
       "\n",
       "    .dataframe thead th {\n",
       "        text-align: right;\n",
       "    }\n",
       "</style>\n",
       "<table border=\"1\" class=\"dataframe\">\n",
       "  <thead>\n",
       "    <tr style=\"text-align: right;\">\n",
       "      <th></th>\n",
       "      <th>chroma_stft_mean</th>\n",
       "      <th>chroma_stft_var</th>\n",
       "      <th>rms_mean</th>\n",
       "      <th>rms_var</th>\n",
       "      <th>spectral_centroid_mean</th>\n",
       "      <th>spectral_centroid_var</th>\n",
       "      <th>spectral_bandwidth_mean</th>\n",
       "      <th>spectral_bandwidth_var</th>\n",
       "      <th>rolloff_mean</th>\n",
       "      <th>rolloff_var</th>\n",
       "      <th>...</th>\n",
       "      <th>mfcc16_var</th>\n",
       "      <th>mfcc17_mean</th>\n",
       "      <th>mfcc17_var</th>\n",
       "      <th>mfcc18_mean</th>\n",
       "      <th>mfcc18_var</th>\n",
       "      <th>mfcc19_mean</th>\n",
       "      <th>mfcc19_var</th>\n",
       "      <th>mfcc20_mean</th>\n",
       "      <th>mfcc20_var</th>\n",
       "      <th>label</th>\n",
       "    </tr>\n",
       "  </thead>\n",
       "  <tbody>\n",
       "    <tr>\n",
       "      <th>0</th>\n",
       "      <td>0.331918</td>\n",
       "      <td>0.090973</td>\n",
       "      <td>0.133103</td>\n",
       "      <td>0.003472</td>\n",
       "      <td>1709.695245</td>\n",
       "      <td>57163.961542</td>\n",
       "      <td>1933.811072</td>\n",
       "      <td>80517.262556</td>\n",
       "      <td>3576.578906</td>\n",
       "      <td>6.237365e+05</td>\n",
       "      <td>...</td>\n",
       "      <td>40.736065</td>\n",
       "      <td>-3.214174</td>\n",
       "      <td>37.470497</td>\n",
       "      <td>0.411830</td>\n",
       "      <td>37.329441</td>\n",
       "      <td>-5.189313</td>\n",
       "      <td>34.034435</td>\n",
       "      <td>-0.428244</td>\n",
       "      <td>44.372490</td>\n",
       "      <td>blues</td>\n",
       "    </tr>\n",
       "    <tr>\n",
       "      <th>1</th>\n",
       "      <td>0.341341</td>\n",
       "      <td>0.085158</td>\n",
       "      <td>0.113380</td>\n",
       "      <td>0.001503</td>\n",
       "      <td>1862.152169</td>\n",
       "      <td>190270.100391</td>\n",
       "      <td>2044.363474</td>\n",
       "      <td>102500.152725</td>\n",
       "      <td>3963.745898</td>\n",
       "      <td>1.099210e+06</td>\n",
       "      <td>...</td>\n",
       "      <td>67.677002</td>\n",
       "      <td>-6.563415</td>\n",
       "      <td>40.349876</td>\n",
       "      <td>0.740047</td>\n",
       "      <td>53.174896</td>\n",
       "      <td>-2.516605</td>\n",
       "      <td>96.645866</td>\n",
       "      <td>6.000895</td>\n",
       "      <td>61.931782</td>\n",
       "      <td>blues</td>\n",
       "    </tr>\n",
       "    <tr>\n",
       "      <th>2</th>\n",
       "      <td>0.347273</td>\n",
       "      <td>0.090748</td>\n",
       "      <td>0.124936</td>\n",
       "      <td>0.004253</td>\n",
       "      <td>1819.031220</td>\n",
       "      <td>109954.693790</td>\n",
       "      <td>2085.854586</td>\n",
       "      <td>71784.102943</td>\n",
       "      <td>4025.158594</td>\n",
       "      <td>7.583332e+05</td>\n",
       "      <td>...</td>\n",
       "      <td>68.337082</td>\n",
       "      <td>-1.700381</td>\n",
       "      <td>32.514679</td>\n",
       "      <td>2.621530</td>\n",
       "      <td>43.788219</td>\n",
       "      <td>-2.606426</td>\n",
       "      <td>56.476410</td>\n",
       "      <td>2.352135</td>\n",
       "      <td>34.945358</td>\n",
       "      <td>blues</td>\n",
       "    </tr>\n",
       "    <tr>\n",
       "      <th>3</th>\n",
       "      <td>0.367662</td>\n",
       "      <td>0.088128</td>\n",
       "      <td>0.128023</td>\n",
       "      <td>0.002582</td>\n",
       "      <td>1690.639848</td>\n",
       "      <td>109272.678104</td>\n",
       "      <td>2000.887093</td>\n",
       "      <td>82949.723609</td>\n",
       "      <td>3705.347461</td>\n",
       "      <td>8.994276e+05</td>\n",
       "      <td>...</td>\n",
       "      <td>46.770283</td>\n",
       "      <td>-3.136297</td>\n",
       "      <td>27.493921</td>\n",
       "      <td>-0.069073</td>\n",
       "      <td>30.165653</td>\n",
       "      <td>-2.403810</td>\n",
       "      <td>53.037487</td>\n",
       "      <td>3.597623</td>\n",
       "      <td>30.709112</td>\n",
       "      <td>blues</td>\n",
       "    </tr>\n",
       "    <tr>\n",
       "      <th>4</th>\n",
       "      <td>0.333540</td>\n",
       "      <td>0.090811</td>\n",
       "      <td>0.147225</td>\n",
       "      <td>0.001878</td>\n",
       "      <td>1647.168975</td>\n",
       "      <td>74200.846542</td>\n",
       "      <td>1988.534249</td>\n",
       "      <td>40893.213344</td>\n",
       "      <td>3530.497852</td>\n",
       "      <td>5.554502e+05</td>\n",
       "      <td>...</td>\n",
       "      <td>37.696289</td>\n",
       "      <td>-0.993938</td>\n",
       "      <td>35.296734</td>\n",
       "      <td>1.825108</td>\n",
       "      <td>56.034340</td>\n",
       "      <td>-3.346776</td>\n",
       "      <td>26.230961</td>\n",
       "      <td>0.519681</td>\n",
       "      <td>32.662136</td>\n",
       "      <td>blues</td>\n",
       "    </tr>\n",
       "  </tbody>\n",
       "</table>\n",
       "<p>5 rows × 58 columns</p>\n",
       "</div>"
      ]
     },
     "metadata": {},
     "execution_count": 34
    }
   ],
   "metadata": {}
  },
  {
   "cell_type": "code",
   "execution_count": 35,
   "source": [
    "y = data['label'] # genre variable.\r\n",
    "X = data.loc[:, data.columns != 'label']"
   ],
   "outputs": [],
   "metadata": {}
  },
  {
   "cell_type": "code",
   "execution_count": 36,
   "source": [
    "cols = X.columns\r\n",
    "min_max_scaler = preprocessing.MinMaxScaler()\r\n",
    "np_scaled = min_max_scaler.fit_transform(X)\r\n",
    "\r\n",
    "# new data frame with the new scaled data. \r\n",
    "X = pd.DataFrame(np_scaled, columns = cols)"
   ],
   "outputs": [],
   "metadata": {}
  },
  {
   "cell_type": "code",
   "execution_count": 37,
   "source": [
    "X_train, X_test, y_train, y_test = train_test_split(X, y, test_size=0.3, random_state=42)"
   ],
   "outputs": [],
   "metadata": {}
  },
  {
   "cell_type": "code",
   "execution_count": 38,
   "source": [
    "def model_assess(model, title = \"Default\"):\r\n",
    "    model.fit(X_train, y_train)\r\n",
    "    preds = model.predict(X_test)\r\n",
    "    #print(confusion_matrix(y_test, preds))\r\n",
    "    print('Accuracy', title, ':', round(accuracy_score(y_test, preds), 5), '\\n')"
   ],
   "outputs": [],
   "metadata": {}
  },
  {
   "cell_type": "code",
   "execution_count": 39,
   "source": [
    "# Cross Gradient Booster\r\n",
    "xgb = XGBClassifier(n_estimators=1000, learning_rate=0.05)\r\n",
    "model_assess(xgb, \"Cross Gradient Booster\")"
   ],
   "outputs": [
    {
     "output_type": "stream",
     "name": "stdout",
     "text": [
      "[16:20:11] WARNING: C:/Users/Administrator/workspace/xgboost-win64_release_1.4.0/src/learner.cc:1095: Starting in XGBoost 1.3.0, the default evaluation metric used with the objective 'multi:softprob' was changed from 'merror' to 'mlogloss'. Explicitly set eval_metric if you'd like to restore the old behavior.\n",
      "Accuracy Cross Gradient Booster : 0.90707 \n",
      "\n"
     ]
    }
   ],
   "metadata": {}
  },
  {
   "cell_type": "code",
   "execution_count": 40,
   "source": [
    "# Final model\r\n",
    "xgb = XGBClassifier(n_estimators=1000, learning_rate=1e-5)\r\n",
    "xgb.fit(X_train, y_train)\r\n",
    "\r\n",
    "\r\n",
    "preds = xgb.predict(X_test)\r\n",
    "\r\n",
    "print('Accuracy', ':', round(accuracy_score(y_test, preds), 5), '\\n')\r\n",
    "\r\n",
    "# Confusion Matrix\r\n",
    "confusion_matr = confusion_matrix(y_test, preds) #normalize = 'true'\r\n",
    "plt.figure(figsize = (16, 9))\r\n",
    "sns.heatmap(confusion_matr, cmap=\"Blues\", annot=True, \r\n",
    "            xticklabels = [\"blues\", \"classical\", \"country\", \"disco\", \"hiphop\", \"jazz\", \"metal\", \"pop\", \"reggae\", \"rock\"],\r\n",
    "           yticklabels=[\"blues\", \"classical\", \"country\", \"disco\", \"hiphop\", \"jazz\", \"metal\", \"pop\", \"reggae\", \"rock\"]);\r\n",
    "# plt.savefig(\"conf matrix\")"
   ],
   "outputs": [
    {
     "output_type": "stream",
     "name": "stdout",
     "text": [
      "[16:22:18] WARNING: C:/Users/Administrator/workspace/xgboost-win64_release_1.4.0/src/learner.cc:1095: Starting in XGBoost 1.3.0, the default evaluation metric used with the objective 'multi:softprob' was changed from 'merror' to 'mlogloss'. Explicitly set eval_metric if you'd like to restore the old behavior.\n",
      "Accuracy : 0.64411 \n",
      "\n"
     ]
    },
    {
     "output_type": "display_data",
     "data": {
      "text/plain": [
       "<Figure size 1152x648 with 2 Axes>"
      ],
      "image/png": "[encoded data removed]"
     },
     "metadata": {
      "needs_background": "light"
     }
    }
   ],
   "metadata": {}
  },
  {
   "cell_type": "code",
   "execution_count": 1,
   "source": [
    "# feature_extractor = extract_Feature_audio(songname=os.path.join(genre_music_path,'rock', 'rock.00003.wav'), genre='_')\r\n",
    "# feature_extractor"
   ],
   "outputs": [],
   "metadata": {}
  },
  {
   "cell_type": "code",
   "execution_count": 2,
   "source": [
    "# from __future__ import unicode_literals\r\n",
    "# import youtube_dl\r\n",
    "\r\n",
    "# ydl_opts = {}\r\n",
    "# with youtube_dl.YoutubeDL(ydl_opts) as ydl:\r\n",
    "#     ydl.download(['https://www.youtube.com/watch?v=BaW_jenozKc'])"
   ],
   "outputs": [],
   "metadata": {}
  },
  {
   "cell_type": "code",
   "execution_count": 3,
   "source": [
    "# import youtube_dl\r\n",
    "\r\n",
    "# ydl = youtube_dl.YoutubeDL({'outtmpl': '%(id)s.%(ext)s'})\r\n",
    "\r\n",
    "# with ydl:\r\n",
    "#     result = ydl.extract_info(\r\n",
    "#         'https://www.youtube.com/watch?v=d6rxGmvQPLU',\r\n",
    "#         download=False # We just want to extract the info\r\n",
    "#     )\r\n",
    "\r\n",
    "# if 'entries' in result:\r\n",
    "#     # Can be a playlist or a list of videos\r\n",
    "#     video = result['entries'][0]\r\n",
    "# else:\r\n",
    "#     # Just a video\r\n",
    "#     video = result\r\n",
    "\r\n",
    "# # print(video)\r\n",
    "# video_url = [video.keys()]\r\n",
    "\r\n",
    "# print(result['uploader_url'])\r\n",
    "# print(video_url)"
   ],
   "outputs": [],
   "metadata": {}
  },
  {
   "cell_type": "code",
   "execution_count": 41,
   "source": [
    "# import pickle\r\n",
    "# file_name = \"xgb_reg.pkl\"\r\n",
    "file_name = \"xgb_reg.json\"\r\n",
    "\r\n",
    "# save\r\n",
    "# pickle.dump(xgb, open(os.path.join( 'save_model', file_name), \"wb\"))\r\n",
    "xgb.save_model(os.path.join( 'save_model', file_name))\r\n"
   ],
   "outputs": [],
   "metadata": {}
  },
  {
   "cell_type": "code",
   "execution_count": 45,
   "source": [],
   "outputs": [],
   "metadata": {}
  },
  {
   "cell_type": "code",
   "execution_count": 46,
   "source": [
    "# load\r\n",
    "xgb_load = XGBClassifier()\r\n",
    "xgb_load.load_model(os.path.join( 'save_model', file_name))\r\n",
    "# # test\r\n",
    "# xgb_load\r\n",
    "# xgb_load.predict()"
   ],
   "outputs": [],
   "metadata": {}
  },
  {
   "cell_type": "code",
   "execution_count": null,
   "source": [],
   "outputs": [],
   "metadata": {}
  },
  {
   "cell_type": "code",
   "execution_count": 57,
   "source": [
    "songname_pre = os.path.join(genre_music_path,'blues', 'blues.00073.wav')\r\n",
    "data_predict = extract_Feature_audio(songname_pre, genre='_')\r\n",
    "# print(data_predict)\r\n",
    "\r\n",
    "pred = xgb.predict(np.array(data_predict))\r\n",
    "pred.max()"
   ],
   "outputs": [
    {
     "output_type": "execute_result",
     "data": {
      "text/plain": [
       "'disco'"
      ]
     },
     "metadata": {},
     "execution_count": 57
    }
   ],
   "metadata": {}
  }
 ],
 "metadata": {
  "orig_nbformat": 4,
  "language_info": {
   "name": "python",
   "version": "3.9.6",
   "mimetype": "text/x-python",
   "codemirror_mode": {
    "name": "ipython",
    "version": 3
   },
   "pygments_lexer": "ipython3",
   "nbconvert_exporter": "python",
   "file_extension": ".py"
  },
  "kernelspec": {
   "name": "python3",
   "display_name": "Python 3.9.6 64-bit"
  },
  "interpreter": {
   "hash": "23300995598eec4bcf6bd89cf02d1c3675e8b2616661418dbbf5580aa901878d"
  }
 },
 "nbformat": 4,
 "nbformat_minor": 2
}